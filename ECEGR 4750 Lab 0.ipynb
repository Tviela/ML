{
 "cells": [
  {
   "cell_type": "code",
   "execution_count": 7,
   "id": "8c9b6323",
   "metadata": {},
   "outputs": [
    {
     "data": {
      "text/plain": [
       "'1900 is not a leap year.'"
      ]
     },
     "execution_count": 7,
     "metadata": {},
     "output_type": "execute_result"
    }
   ],
   "source": [
    "def is_leap_year(year):\n",
    "    # Check if year is divisible by 400, or divisible by 4 but not divisible by 100\n",
    "    if (year % 400 == 0) or (year % 4 == 0 and year % 100 != 0):\n",
    "        return True\n",
    "    else:\n",
    "        return False\n",
    "\n",
    "def check_leap_year(year):\n",
    "    if 1 <= year <= 3199:\n",
    "        if is_leap_year(year):\n",
    "            return f\"{year} is a leap year.\"\n",
    "        else:\n",
    "            return f\"{year} is not a leap year.\"\n",
    "    else:\n",
    "        return \"Please enter a valid year within the range of 1 to 3199.\"\n",
    "\n",
    "year_to_check = 1900  # Changable\n",
    "check_leap_year(year_to_check)\n"
   ]
  },
  {
   "cell_type": "code",
   "execution_count": 8,
   "id": "6457fe2f",
   "metadata": {},
   "outputs": [
    {
     "name": "stdout",
     "output_type": "stream",
     "text": [
      "Which of the following countries can be considered Scandinavian?\n",
      "A. Latvia\n",
      "B. Denmark\n",
      "C. Finland\n",
      "D. The Netherlands\n",
      "E. Sweden\n",
      "Enter your answers as letters (e.g., 'B E') separated by space: b e\n",
      "Correct! Denmark and Sweden are Scandinavian countries.\n"
     ]
    }
   ],
   "source": [
    "def scandinavian_quiz():\n",
    "    # Correct answers\n",
    "    correct_answers = {\"B\", \"E\"}  # Denmark and Sweden\n",
    "    \n",
    "    # Question and Answers\n",
    "    print(\"Which of the following countries can be considered Scandinavian?\")\n",
    "    print(\"A. Latvia\")\n",
    "    print(\"B. Denmark\")\n",
    "    print(\"C. Finland\")\n",
    "    print(\"D. The Netherlands\")\n",
    "    print(\"E. Sweden\")\n",
    "    \n",
    "    while True:\n",
    "        # Ask the user for their answers\n",
    "        response = input(\"Enter your answers as letters (e.g., 'B E') separated by space: \").upper().split()\n",
    "        \n",
    "        # Convert response to a set to compare with correct answers\n",
    "        response_set = set(response)\n",
    "        \n",
    "        # Check if response is correct\n",
    "        if response_set == correct_answers:\n",
    "            print(\"Correct! Denmark and Sweden are Scandinavian countries.\")\n",
    "            break\n",
    "        else:\n",
    "            print(\"Incorrect. Please try again.\")\n",
    "\n",
    "# Re-run, call scandinavian_quiz()\n",
    "scandinavian_quiz()"
   ]
  },
  {
   "cell_type": "code",
   "execution_count": 1,
   "id": "35cab909",
   "metadata": {},
   "outputs": [
    {
     "name": "stdout",
     "output_type": "stream",
     "text": [
      "Max: 96\n",
      "Min: 4\n",
      "Max: 96\n",
      "Min: 4\n",
      "Mean: 47.80769230769231\n",
      "Median: 45.0\n",
      "Variance: 891.3091715976332\n"
     ]
    },
    {
     "data": {
      "image/png": "[encoded data removed]",
      "text/plain": [
       "<Figure size 432x288 with 1 Axes>"
      ]
     },
     "metadata": {
      "needs_background": "light"
     },
     "output_type": "display_data"
    },
    {
     "name": "stdout",
     "output_type": "stream",
     "text": [
      "Max: 3.348716571600183, Min: -2.6406960844510325\n",
      "Mean: 0.00882062029435211, Median: -0.04565808319321353, Variance: 0.9784175698082663\n"
     ]
    },
    {
     "data": {
      "image/png": "[encoded data removed]",
      "text/plain": [
       "<Figure size 432x288 with 1 Axes>"
      ]
     },
     "metadata": {
      "needs_background": "light"
     },
     "output_type": "display_data"
    },
    {
     "name": "stdout",
     "output_type": "stream",
     "text": [
      "Number of bars in the histogram: 10\n"
     ]
    },
    {
     "data": {
      "image/png": "[encoded data removed]",
      "text/plain": [
       "<Figure size 432x288 with 1 Axes>"
      ]
     },
     "metadata": {
      "needs_background": "light"
     },
     "output_type": "display_data"
    },
    {
     "data": {
      "image/png": "[encoded data removed]",
      "text/plain": [
       "<Figure size 432x288 with 1 Axes>"
      ]
     },
     "metadata": {
      "needs_background": "light"
     },
     "output_type": "display_data"
    }
   ],
   "source": [
    "import numpy as np\n",
    "import matplotlib.pyplot as plt\n",
    "\n",
    "# Original dataset\n",
    "dataset1 = [85, 62, 78, 64, 25, 12, 74, 96, 63, 45, 78, 20, 5, 30, 45, 78, 45, 96, 65, 45, 7, 4, 12, 78, 23, 8]\n",
    "\n",
    "# Step 2: Find largest and smallest values in dataset1\n",
    "max_val = np.max(dataset1)\n",
    "print(f\"Max: {max_val}\")\n",
    "min_val = np.min(dataset1)\n",
    "print(f\"Min: {min_val}\")\n",
    "\n",
    "# Step 3: Use max and min without formatting\n",
    "print(\"Max:\", max_val)\n",
    "print(\"Min:\", min_val)\n",
    "\n",
    "# Step 4: Explanation\n",
    "\"\"\"\n",
    "In step 2, we used the NumPy functions np.max() and np.min() to find the largest and smallest values in the dataset, respectively.\n",
    "These functions efficiently scan through the dataset to retrieve the highest and lowest numbers.\n",
    "\"\"\"\n",
    "\n",
    "# Step 5: Find the mean average of the numbers in dataset1\n",
    "mean_val = np.mean(dataset1)\n",
    "print(f\"Mean: {mean_val}\")\n",
    "\n",
    "# Step 6: Find the median average of the numbers in dataset1\n",
    "median_val = np.median(dataset1)\n",
    "print(f\"Median: {median_val}\")\n",
    "\n",
    "# Step 7: Find the variance of the numbers in dataset1\n",
    "variance_val = np.var(dataset1)\n",
    "print(f\"Variance: {variance_val}\")\n",
    "\n",
    "# Step 8: Plot a histogram\n",
    "plt.figure()\n",
    "hist1, edges1 = np.histogram(dataset1, bins=10)  # Default 10 bins\n",
    "plt.bar(edges1[:-1], hist1, width=edges1[1:] - edges1[:-1])\n",
    "plt.title('Histogram of dataset1')\n",
    "plt.xlabel('Value')\n",
    "plt.ylabel('Frequency')\n",
    "plt.show()\n",
    "\n",
    "# Step 9: Create a pseudo-random dataset of 1000 values\n",
    "dataset2 = np.random.randn(1000)\n",
    "\n",
    "# Repeat steps 2-8 for dataset2\n",
    "max_val2 = np.max(dataset2)\n",
    "min_val2 = np.min(dataset2)\n",
    "mean_val2 = np.mean(dataset2)\n",
    "median_val2 = np.median(dataset2)\n",
    "variance_val2 = np.var(dataset2)\n",
    "\n",
    "print(f\"Max: {max_val2}, Min: {min_val2}\")\n",
    "print(f\"Mean: {mean_val2}, Median: {median_val2}, Variance: {variance_val2}\")\n",
    "\n",
    "plt.figure()\n",
    "hist2, edges2 = np.histogram(dataset2, bins=10)\n",
    "plt.bar(edges2[:-1], hist2, width=edges2[1:] - edges2[:-1])\n",
    "plt.title('Histogram of dataset2')\n",
    "plt.xlabel('Value')\n",
    "plt.ylabel('Frequency')\n",
    "plt.show()\n",
    "\n",
    "# Step 10: Report how many bars are in the histogram\n",
    "print(f\"Number of bars in the histogram: {len(edges2)-1}\")\n",
    "\n",
    "# Step 11: Use NumPy’s histogram parameter bins to set 100 bars, then 50\n",
    "# First, with 100 bins\n",
    "plt.figure()\n",
    "hist2_100bins, edges2_100bins = np.histogram(dataset2, bins=100)\n",
    "plt.bar(edges2_100bins[:-1], hist2_100bins, width=edges2_100bins[1:] - edges2_100bins[:-1])\n",
    "plt.title('Histogram of dataset2 with 100 bins')\n",
    "plt.xlabel('Value')\n",
    "plt.ylabel('Frequency')\n",
    "plt.show()\n",
    "\n",
    "# Then, with 50 bins\n",
    "plt.figure()\n",
    "hist2_50bins, edges2_50bins = np.histogram(dataset2, bins=50)\n",
    "plt.bar(edges2_50bins[:-1], hist2_50bins, width=edges2_50bins[1:] - edges2_50bins[:-1])\n",
    "plt.title('Histogram of dataset2 with 50 bins')\n",
    "plt.xlabel('Value')\n",
    "plt.ylabel('Frequency')\n",
    "plt.show()"
   ]
  },
  {
   "cell_type": "code",
   "execution_count": 6,
   "id": "5679250b",
   "metadata": {
    "scrolled": false
   },
   "outputs": [
    {
     "name": "stdout",
     "output_type": "stream",
     "text": [
      "Defaulting to user installation because normal site-packages is not writeable\n",
      "Requirement already satisfied: ucimlrepo in c:\\users\\tviela\\appdata\\roaming\\python\\python39\\site-packages (0.0.7)\n",
      "Requirement already satisfied: pandas>=1.0.0 in c:\\anaconda3\\lib\\site-packages (from ucimlrepo) (1.4.2)\n",
      "Requirement already satisfied: certifi>=2020.12.5 in c:\\anaconda3\\lib\\site-packages (from ucimlrepo) (2021.10.8)\n",
      "Requirement already satisfied: python-dateutil>=2.8.1 in c:\\anaconda3\\lib\\site-packages (from pandas>=1.0.0->ucimlrepo) (2.8.2)\n",
      "Requirement already satisfied: numpy>=1.18.5 in c:\\anaconda3\\lib\\site-packages (from pandas>=1.0.0->ucimlrepo) (1.21.5)\n",
      "Requirement already satisfied: pytz>=2020.1 in c:\\anaconda3\\lib\\site-packages (from pandas>=1.0.0->ucimlrepo) (2021.3)\n",
      "Requirement already satisfied: six>=1.5 in c:\\anaconda3\\lib\\site-packages (from python-dateutil>=2.8.1->pandas>=1.0.0->ucimlrepo) (1.16.0)\n",
      "Note: you may need to restart the kernel to use updated packages.\n"
     ]
    }
   ],
   "source": [
    "pip install ucimlrepo"
   ]
  },
  {
   "cell_type": "code",
   "execution_count": 7,
   "id": "fac6e0a9",
   "metadata": {},
   "outputs": [
    {
     "ename": "ModuleNotFoundError",
     "evalue": "No module named 'ucimlrepo'",
     "output_type": "error",
     "traceback": [
      "\u001b[1;31m---------------------------------------------------------------------------\u001b[0m",
      "\u001b[1;31mModuleNotFoundError\u001b[0m                       Traceback (most recent call last)",
      "Input \u001b[1;32mIn [7]\u001b[0m, in \u001b[0;36m<cell line: 1>\u001b[1;34m()\u001b[0m\n\u001b[1;32m----> 1\u001b[0m \u001b[38;5;28;01mfrom\u001b[39;00m \u001b[38;5;21;01mucimlrepo\u001b[39;00m \u001b[38;5;28;01mimport\u001b[39;00m fetch_ucirepo \n\u001b[0;32m      3\u001b[0m \u001b[38;5;66;03m# fetch dataset \u001b[39;00m\n\u001b[0;32m      4\u001b[0m daily_demand_forecasting_orders \u001b[38;5;241m=\u001b[39m fetch_ucirepo(\u001b[38;5;28mid\u001b[39m\u001b[38;5;241m=\u001b[39m\u001b[38;5;241m409\u001b[39m) \n",
      "\u001b[1;31mModuleNotFoundError\u001b[0m: No module named 'ucimlrepo'"
     ]
    }
   ],
   "source": [
    "from ucimlrepo import fetch_ucirepo \n",
    "  \n",
    "# fetch dataset \n",
    "daily_demand_forecasting_orders = fetch_ucirepo(id=409) \n",
    "  \n",
    "# data (as pandas dataframes) \n",
    "X = daily_demand_forecasting_orders.data.features \n",
    "y = daily_demand_forecasting_orders.data.targets \n",
    "  \n",
    "# metadata \n",
    "print(daily_demand_forecasting_orders.metadata) \n",
    "  \n",
    "# variable information \n",
    "print(daily_demand_forecasting_orders.variables) "
   ]
  },
  {
   "cell_type": "code",
   "execution_count": 4,
   "id": "17425da5",
   "metadata": {},
   "outputs": [],
   "source": [
    "import pandas as pd\n",
    "Fo = pd.read_csv('https://archive.ics.uci.edu/static/public/409/daily+demand+forecasting+orders.zip', sep=\";\")"
   ]
  },
  {
   "cell_type": "code",
   "execution_count": null,
   "id": "42d54bb8",
   "metadata": {},
   "outputs": [],
   "source": []
  }
 ],
 "metadata": {
  "kernelspec": {
   "display_name": "Python 3 (ipykernel)",
   "language": "python",
   "name": "python3"
  },
  "language_info": {
   "codemirror_mode": {
    "name": "ipython",
    "version": 3
   },
   "file_extension": ".py",
   "mimetype": "text/x-python",
   "name": "python",
   "nbconvert_exporter": "python",
   "pygments_lexer": "ipython3",
   "version": "3.9.12"
  }
 },
 "nbformat": 4,
 "nbformat_minor": 5
}
